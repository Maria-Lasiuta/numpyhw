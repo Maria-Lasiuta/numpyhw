{
 "cells": [
  {
   "cell_type": "markdown",
   "id": "a0ffd05d",
   "metadata": {},
   "source": [
    "Replace Nan with average of columns"
   ]
  },
  {
   "cell_type": "code",
   "execution_count": 1,
   "id": "64533939",
   "metadata": {},
   "outputs": [],
   "source": [
    "import numpy as np"
   ]
  },
  {
   "cell_type": "code",
   "execution_count": 3,
   "id": "68a8e391",
   "metadata": {},
   "outputs": [],
   "source": [
    "array = np.array([[1,2,np.nan],\n",
    "                  [3,5,6],\n",
    "                  [np.nan,8,9]])"
   ]
  },
  {
   "cell_type": "code",
   "execution_count": 4,
   "id": "34a2cc1e",
   "metadata": {},
   "outputs": [
    {
     "data": {
      "text/plain": [
       "array([[ 1.,  2., nan],\n",
       "       [ 3.,  5.,  6.],\n",
       "       [nan,  8.,  9.]])"
      ]
     },
     "execution_count": 4,
     "metadata": {},
     "output_type": "execute_result"
    }
   ],
   "source": [
    "array"
   ]
  },
  {
   "cell_type": "code",
   "execution_count": 18,
   "id": "96bf5656",
   "metadata": {},
   "outputs": [
    {
     "data": {
      "text/plain": [
       "array([[False, False,  True],\n",
       "       [False, False, False],\n",
       "       [ True, False, False]])"
      ]
     },
     "execution_count": 18,
     "metadata": {},
     "output_type": "execute_result"
    }
   ],
   "source": [
    "np.isnan(array)"
   ]
  },
  {
   "cell_type": "code",
   "execution_count": 20,
   "id": "816ec43b",
   "metadata": {},
   "outputs": [],
   "source": [
    "array_1 = np.where(np.isnan(array), np.ma.array(array,mask=np.isnan(array)).mean(axis = 0), array)"
   ]
  },
  {
   "cell_type": "code",
   "execution_count": 21,
   "id": "f2691d9f",
   "metadata": {},
   "outputs": [
    {
     "data": {
      "text/plain": [
       "array([[1. , 2. , 7.5],\n",
       "       [3. , 5. , 6. ],\n",
       "       [2. , 8. , 9. ]])"
      ]
     },
     "execution_count": 21,
     "metadata": {},
     "output_type": "execute_result"
    }
   ],
   "source": [
    "array_1"
   ]
  },
  {
   "cell_type": "markdown",
   "id": "557f7b93",
   "metadata": {},
   "source": [
    "Replace negative value with zero"
   ]
  },
  {
   "cell_type": "code",
   "execution_count": 25,
   "id": "3b853cf8",
   "metadata": {},
   "outputs": [],
   "source": [
    "array_2 = np.array([[1,2,5],\n",
    "                  [-3,5,-6],\n",
    "                  [1,-2,7]])"
   ]
  },
  {
   "cell_type": "code",
   "execution_count": 26,
   "id": "4e09e361",
   "metadata": {},
   "outputs": [
    {
     "data": {
      "text/plain": [
       "array([[1, 2, 5],\n",
       "       [0, 5, 0],\n",
       "       [1, 0, 7]])"
      ]
     },
     "execution_count": 26,
     "metadata": {},
     "output_type": "execute_result"
    }
   ],
   "source": [
    "np.where(array_2<0, 0, array_2)"
   ]
  },
  {
   "cell_type": "code",
   "execution_count": null,
   "id": "074875f3",
   "metadata": {},
   "outputs": [],
   "source": []
  }
 ],
 "metadata": {
  "kernelspec": {
   "display_name": "Python 3",
   "language": "python",
   "name": "python3"
  },
  "language_info": {
   "codemirror_mode": {
    "name": "ipython",
    "version": 3
   },
   "file_extension": ".py",
   "mimetype": "text/x-python",
   "name": "python",
   "nbconvert_exporter": "python",
   "pygments_lexer": "ipython3",
   "version": "3.8.8"
  }
 },
 "nbformat": 4,
 "nbformat_minor": 5
}
