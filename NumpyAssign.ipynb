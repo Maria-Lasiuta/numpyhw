{
 "cells": [
  {
   "cell_type": "code",
   "execution_count": 2,
   "id": "d8f2b797",
   "metadata": {},
   "outputs": [],
   "source": [
    " import numpy as np"
   ]
  },
  {
   "cell_type": "markdown",
   "id": "12742400",
   "metadata": {},
   "source": [
    "**How to get values of an NumPy array at certain index positions?**\n",
    "\n",
    "​"
   ]
  },
  {
   "cell_type": "code",
   "execution_count": 4,
   "id": "10620f1b",
   "metadata": {},
   "outputs": [
    {
     "name": "stdout",
     "output_type": "stream",
     "text": [
      "Array 1 : [11 10 22 30 33]\n",
      "Array 2 : [ 1 15 60]\n",
      "Result :\n",
      "[ 1 10 22 30 15]\n"
     ]
    }
   ],
   "source": [
    "\n",
    "foo = np.array([11, 10, 22, 30, 33])\n",
    "print(\"Array 1 :\", foo)\n",
    "\n",
    "  \n",
    "buzz = np.array([1, 15, 60])\n",
    "print(\"Array 2 :\", buzz)\n",
    "\n",
    "\n",
    "  \n",
    "foo.put([0, 4], buzz)\n",
    "  \n",
    "print(\"Result :\")\n",
    "print(foo)"
   ]
  },
  {
   "cell_type": "markdown",
   "id": "f1d3f72b",
   "metadata": {},
   "source": [
    "**Find indices of elements equal to zero in a NumPy array**"
   ]
  },
  {
   "cell_type": "code",
   "execution_count": 6,
   "id": "92edd46e",
   "metadata": {},
   "outputs": [
    {
     "name": "stdout",
     "output_type": "stream",
     "text": [
      "Original array: [1 0 2 0 3 0 0 5 6 7 5 0 8]\n",
      "Result :\n",
      "[ 1  3  5  6 11]\n"
     ]
    }
   ],
   "source": [
    "\n",
    "foo = np.array([1, 0, 2, 0, 3, 0, 0, 5,\n",
    "                    6, 7, 5, 0, 8])\n",
    "  \n",
    "print(\"Original array:\", foo)\n",
    "  \n",
    "res = np.where(foo == 0)[0]\n",
    "print(\"Result :\")\n",
    "print(res)"
   ]
  },
  {
   "cell_type": "code",
   "execution_count": null,
   "id": "bad868a6",
   "metadata": {},
   "outputs": [],
   "source": []
  }
 ],
 "metadata": {
  "kernelspec": {
   "display_name": "Python 3 (ipykernel)",
   "language": "python",
   "name": "python3"
  },
  "language_info": {
   "codemirror_mode": {
    "name": "ipython",
    "version": 3
   },
   "file_extension": ".py",
   "mimetype": "text/x-python",
   "name": "python",
   "nbconvert_exporter": "python",
   "pygments_lexer": "ipython3",
   "version": "3.9.7"
  }
 },
 "nbformat": 4,
 "nbformat_minor": 5
}
